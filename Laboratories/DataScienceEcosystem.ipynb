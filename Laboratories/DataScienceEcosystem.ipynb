{
 "cells": [
  {
   "cell_type": "markdown",
   "id": "72da2be8-dd76-4388-bfc5-b91ea78ff30e",
   "metadata": {},
   "source": [
    "# Data Science Tools and Ecosystem\n"
   ]
  },
  {
   "cell_type": "markdown",
   "id": "37d25892-e1e8-499b-8af7-4603e6f34bf8",
   "metadata": {
    "tags": []
   },
   "source": [
    "In this notebook, Data Science Tools and Ecosystem are summarized. \n"
   ]
  },
  {
   "cell_type": "markdown",
   "id": "dbec2389-c47d-47b4-a64a-2fd9e630ee17",
   "metadata": {},
   "source": [
    "Some of the popular languages that Data Scientists use are:\n",
    "- Scala\n",
    "- Python\n",
    "- Java\n"
   ]
  },
  {
   "cell_type": "markdown",
   "id": "0194ae68-87a7-475b-acdd-1c7e7b0107b4",
   "metadata": {},
   "source": [
    "Some of the commonly used libraries used by Data Scientists include:\n",
    "- Pandas\n",
    "- Plotly\n",
    "- Numpy\n",
    "- Keras\n",
    "- SciPy\n"
   ]
  },
  {
   "cell_type": "markdown",
   "id": "8b32d91c-23c1-4a21-a7a3-f30523c008b1",
   "metadata": {},
   "source": [
    "**Data Science Tools**\n",
    "\n",
    "| Tool Name |\n",
    "|---|\n",
    "| Jupyter Notebook |\n",
    "| RStudio |\n",
    "| Spyder |\n"
   ]
  },
  {
   "cell_type": "markdown",
   "id": "866e16e4-91ee-46cc-96b7-e4f48217a208",
   "metadata": {},
   "source": [
    "### Below are a few examples of evaluating arithmetic expressions in Python\n"
   ]
  },
  {
   "cell_type": "code",
   "execution_count": 3,
   "id": "d3370976-a415-4678-871a-96733f4e620b",
   "metadata": {
    "tags": []
   },
   "outputs": [
    {
     "name": "stdout",
     "output_type": "stream",
     "text": [
      "5 4.0 343 True\n"
     ]
    }
   ],
   "source": [
    "x = 3 + 2\n",
    "y = 8 / 2\n",
    "z = 49 * 7\n",
    "person_age = 26\n",
    "voting_age = 18\n",
    "q = person_age>= voting_age\n",
    "print(x, y, z, q)"
   ]
  },
  {
   "cell_type": "code",
   "execution_count": 5,
   "id": "8fc5bede-e55b-4ef7-a553-944ddf3ffce9",
   "metadata": {
    "tags": []
   },
   "outputs": [
    {
     "data": {
      "text/plain": [
       "17"
      ]
     },
     "execution_count": 5,
     "metadata": {},
     "output_type": "execute_result"
    }
   ],
   "source": [
    "(3*4)+5\n",
    "# This a simple arithmetic expression to mutiply then add integers"
   ]
  },
  {
   "cell_type": "code",
   "execution_count": 7,
   "id": "f53f09ce-b362-459b-8269-e4fdecb5de3f",
   "metadata": {
    "tags": []
   },
   "outputs": [
    {
     "name": "stdout",
     "output_type": "stream",
     "text": [
      "3.3333333333333335\n"
     ]
    }
   ],
   "source": [
    "\n",
    "minute_to_hour = 200/60\n",
    "print(minute_to_hour)\n"
   ]
  },
  {
   "cell_type": "markdown",
   "id": "695b02c3-32dc-4263-aca3-f4035482bae9",
   "metadata": {},
   "source": [
    "# Objectives:\n",
    "\n",
    "* List popular languages for Data Science.\n",
    "* Demonstrate basic arithmetic operations in Python.\n",
    "* Convert minutes to hours using Python expressions.\n",
    "* Apply Python to real-world data manipulation tasks.\n",
    "* (Add any additional objectives covered in the notebook)\n"
   ]
  },
  {
   "cell_type": "markdown",
   "id": "1b58fb9c-23c4-4066-8945-299649b7f7f4",
   "metadata": {},
   "source": [
    "## Author\n",
    "Gökhan Elbistan\n"
   ]
  }
 ],
 "metadata": {
  "kernelspec": {
   "display_name": "Python",
   "language": "python",
   "name": "conda-env-python-py"
  },
  "language_info": {
   "codemirror_mode": {
    "name": "ipython",
    "version": 3
   },
   "file_extension": ".py",
   "mimetype": "text/x-python",
   "name": "python",
   "nbconvert_exporter": "python",
   "pygments_lexer": "ipython3",
   "version": "3.7.12"
  }
 },
 "nbformat": 4,
 "nbformat_minor": 5
}
